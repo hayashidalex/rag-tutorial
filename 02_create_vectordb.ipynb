{
 "cells": [
  {
   "cell_type": "markdown",
   "id": "5d54c3af-338f-4612-974b-bdc51ba01854",
   "metadata": {},
   "source": [
    "# Create Vector Database to be used for local RAG\n",
    "\n",
    "How to create a simple Vector Database for storing data chunks extracted from a PDF file\n",
    "\n",
    "- PDF file: Lafayette High School Course Directory 2025-2026\n",
    "- VectorDB: Chroma\n",
    "- Embedding Model: HuggingFaceEmbeddings"
   ]
  },
  {
   "cell_type": "code",
   "execution_count": null,
   "id": "77f5da88-6a35-492d-8b99-2c7a6b8ca3c5",
   "metadata": {},
   "outputs": [],
   "source": [
    "from langchain_chroma import Chroma\n",
    "from langchain.text_splitter import RecursiveCharacterTextSplitter, Language\n",
    "from langchain_huggingface.embeddings import HuggingFaceEmbeddings\n",
    "from uuid import uuid4"
   ]
  },
  {
   "cell_type": "markdown",
   "id": "d463f598-4e94-4a05-b8bb-305179cd4d40",
   "metadata": {},
   "source": [
    "## Load PDF file using a document loader"
   ]
  },
  {
   "cell_type": "code",
   "execution_count": null,
   "id": "e8559a7e-5117-4ccc-959d-d3e2db570134",
   "metadata": {},
   "outputs": [],
   "source": [
    "from langchain_community.document_loaders import PyPDFLoader\n",
    "\n",
    "file_path = \"LHS_Course_Directory_25-26.pdf\"\n",
    "\n",
    "loader = PyPDFLoader(file_path)\n",
    "pages = []\n",
    "async for page in loader.alazy_load():\n",
    "    pages.append(page)"
   ]
  },
  {
   "cell_type": "markdown",
   "id": "3bbf32d9",
   "metadata": {},
   "source": [
    "## Clean blank lines from pages"
   ]
  },
  {
   "cell_type": "code",
   "execution_count": null,
   "id": "69069877",
   "metadata": {},
   "outputs": [],
   "source": [
    "# Clean up blank lines and extra whitespace from each page\n",
    "for page in pages:\n",
    "    # Remove blank lines and excessive whitespace\n",
    "    lines = page.page_content.split('\\n')\n",
    "    # Filter out empty lines and strip whitespace from each line\n",
    "    cleaned_lines = [line.strip() for line in lines if line.strip()]\n",
    "    # Join back with single newlines\n",
    "    page.page_content = '\\n'.join(cleaned_lines)"
   ]
  },
  {
   "cell_type": "markdown",
   "id": "34ff5006-a38f-44ba-be1e-e2a31c463a31",
   "metadata": {},
   "source": [
    "### (optional) Check a sample page"
   ]
  },
  {
   "cell_type": "code",
   "execution_count": null,
   "id": "3a2aa0f8",
   "metadata": {},
   "outputs": [],
   "source": [
    "# Check the cleaned content\n",
    "print(\"Cleaned page Example:\")\n",
    "print(repr(pages[25].metadata))\n",
    "print(repr(pages[25].page_content))  # Show first 500 chars with repr to see newlines"
   ]
  },
  {
   "cell_type": "markdown",
   "id": "a867287e-8e6e-40c0-baf7-09af5dbae2b7",
   "metadata": {},
   "source": [
    "## Split each page into smaller chunks\n",
    "\n",
    "Tip: Often, but not always, necessary."
   ]
  },
  {
   "cell_type": "code",
   "execution_count": null,
   "id": "cb8f7dc0-57b0-4c92-a9cb-e6b24366b51b",
   "metadata": {},
   "outputs": [],
   "source": [
    "text_splitter = RecursiveCharacterTextSplitter(\n",
    "    chunk_size=1000, chunk_overlap=100, add_start_index=True\n",
    ")\n",
    "splits = text_splitter.split_documents(pages)"
   ]
  },
  {
   "cell_type": "markdown",
   "id": "b2c3b04c-9702-47ab-9e34-0f5c676808ac",
   "metadata": {},
   "source": [
    "## Choose an embedding model, DB, and store the text chunks"
   ]
  },
  {
   "cell_type": "code",
   "execution_count": null,
   "id": "e18842f9-b340-4d18-82fc-8b5c0b34d262",
   "metadata": {},
   "outputs": [],
   "source": [
    "# Embedding model\n",
    "embedding_model = HuggingFaceEmbeddings()\n",
    "\n",
    "# Vector store (and make it persist)\n",
    "database_loc = (\"./chroma_db_test1\")\n",
    "vector_store = Chroma(embedding_function=embedding_model,\n",
    "                      persist_directory=database_loc)\n",
    "\n",
    "uuids = [str(uuid4()) for _ in range(len(splits))]\n",
    "\n",
    "# Add text chunks\n",
    "vector_store.add_documents(splits, ids=uuids)"
   ]
  },
  {
   "cell_type": "code",
   "execution_count": null,
   "id": "ce3dc294-bb92-4526-9d2c-088b93b36e5a",
   "metadata": {},
   "outputs": [],
   "source": []
  },
  {
   "cell_type": "code",
   "execution_count": null,
   "id": "055045f1-f231-45a3-b134-01174c82169b",
   "metadata": {},
   "outputs": [],
   "source": []
  }
 ],
 "metadata": {
  "kernelspec": {
   "display_name": "Python 3 (ipykernel)",
   "language": "python",
   "name": "python3"
  },
  "language_info": {
   "codemirror_mode": {
    "name": "ipython",
    "version": 3
   },
   "file_extension": ".py",
   "mimetype": "text/x-python",
   "name": "python",
   "nbconvert_exporter": "python",
   "pygments_lexer": "ipython3",
   "version": "3.12.10"
  }
 },
 "nbformat": 4,
 "nbformat_minor": 5
}
