{
 "cells": [
  {
   "cell_type": "markdown",
   "id": "a3bed6bd-ac11-4ddc-9410-d0ff32f10d6f",
   "metadata": {},
   "source": [
    "#  RAG Example (small but complete)\n",
    "\n",
    "For more information, see https://python.langchain.com/docs/tutorials/rag/ \n",
    "\n",
    "- We are building a complete RAG pipeline with the same Vector Database we built earlier."
   ]
  },
  {
   "cell_type": "markdown",
   "id": "21d83986-f30c-44d8-bfb6-75abb0e1d568",
   "metadata": {},
   "source": [
    "## Specify embedding model and vector store"
   ]
  },
  {
   "cell_type": "code",
   "execution_count": null,
   "id": "a463e444-187e-453b-b850-09ed74b01fea",
   "metadata": {},
   "outputs": [],
   "source": [
    "from langchain_chroma import Chroma\n",
    "from langchain_huggingface.embeddings import HuggingFaceEmbeddings\n",
    "\n",
    "embedding_model = HuggingFaceEmbeddings()\n",
    "database_loc = (\"./chroma_db_test1\")\n",
    "\n",
    "vectorstore = Chroma(persist_directory=database_loc,\n",
    "      embedding_function=embedding_model)"
   ]
  },
  {
   "cell_type": "markdown",
   "id": "490100fe-04d1-455c-aec1-0074bcd6194d",
   "metadata": {},
   "source": [
    "## Specify the LLM\n",
    "\n",
    "We are going to use Ollama to keep it simple"
   ]
  },
  {
   "cell_type": "code",
   "execution_count": null,
   "id": "ff3bfd31-9fdf-4348-a3e8-ec43b246575a",
   "metadata": {},
   "outputs": [],
   "source": [
    "from langchain_ollama import OllamaLLM\n",
    "from langchain.callbacks.manager import CallbackManager\n",
    "from langchain.callbacks.streaming_stdout import StreamingStdOutCallbackHandler\n",
    "\n",
    "llm = OllamaLLM(model='llama3:latest') "
   ]
  },
  {
   "cell_type": "markdown",
   "id": "67e5f849-0580-4279-9c53-3385e9372000",
   "metadata": {},
   "source": [
    "## Create a simple prompt template\n",
    "\n",
    "This can be handled in many ways and can be very simple to complex."
   ]
  },
  {
   "cell_type": "code",
   "execution_count": null,
   "id": "1da6a13f-f19b-40e3-8088-711d66d10ba9",
   "metadata": {},
   "outputs": [],
   "source": [
    "from langchain_core.prompts import PromptTemplate\n",
    "\n",
    "template = \"\"\"\n",
    "You are a counselor for Lafayette high school in Lexington, KY.\n",
    "Students will ask a question based on their interests and career plans.\n",
    "Your job is to advice them which courses register for \n",
    "based on the context provided below.\n",
    "\n",
    "Context: {context}\n",
    "\n",
    "Question: {question}\n",
    "\n",
    "Answer: I would recommend the following courses: \"\"\"\n",
    "\n",
    "prompt = PromptTemplate.from_template(template)"
   ]
  },
  {
   "cell_type": "markdown",
   "id": "0278d486-0ae7-4289-b45f-35af800e5257",
   "metadata": {},
   "source": [
    "## Create a chain of steps\n",
    "\n",
    "For more information, see https://python.langchain.com/docs/tutorials/rag/ "
   ]
  },
  {
   "cell_type": "code",
   "execution_count": null,
   "id": "0ab902a1-7106-4cb8-aaae-5ee167521eb0",
   "metadata": {},
   "outputs": [],
   "source": [
    "from typing_extensions import List, TypedDict\n",
    "from langchain_core.documents import Document\n",
    "\n",
    "# Define state for application\n",
    "class State(TypedDict):\n",
    "    question: str\n",
    "    context: List[Document]\n",
    "    answer: str\n",
    "\n",
    "# Define application steps\n",
    "def retrieve(state: State):\n",
    "    retrieved_docs = vectorstore.similarity_search(state[\"question\"], k=5)\n",
    "    return {\"context\": retrieved_docs}\n",
    "\n",
    "def generate(state: State):\n",
    "    docs_content = \"\\n\\n\".join(doc.page_content for doc in state[\"context\"])\n",
    "    messages = prompt.invoke({\"question\": state[\"question\"], \"context\": docs_content})\n",
    "    response = llm.invoke(messages)\n",
    "    return {\"answer\": response}"
   ]
  },
  {
   "cell_type": "markdown",
   "id": "48d038f1-cd17-4295-bfac-f4a22c4b6fd4",
   "metadata": {},
   "source": [
    "## Connect them and save them as a Langgraph\n",
    "\n",
    "This is quite new. Chain creation was done thorugh piping until recently."
   ]
  },
  {
   "cell_type": "code",
   "execution_count": null,
   "id": "caf3386a-2a1b-482e-bb47-f03c68d52b82",
   "metadata": {},
   "outputs": [],
   "source": [
    "from langgraph.graph import START, StateGraph\n",
    "\n",
    "# Compile application and test\n",
    "graph_builder = StateGraph(State).add_sequence([retrieve, generate])\n",
    "graph_builder.add_edge(START, \"retrieve\")\n",
    "graph = graph_builder.compile()"
   ]
  },
  {
   "cell_type": "code",
   "execution_count": null,
   "id": "d29885de-f4e9-4be8-bfcd-958f00765933",
   "metadata": {},
   "outputs": [],
   "source": [
    "from IPython.display import Image, display\n",
    "\n",
    "display(Image(graph.get_graph().draw_mermaid_png()))"
   ]
  },
  {
   "cell_type": "markdown",
   "id": "5b2fd375-c914-4327-a5ef-7a373dd0b802",
   "metadata": {},
   "source": [
    "## Now comes the fun part!"
   ]
  },
  {
   "cell_type": "code",
   "execution_count": null,
   "id": "2a31acdf-3ba9-456a-8287-475381faacf3",
   "metadata": {},
   "outputs": [],
   "source": [
    "# student_question = \"I am interested in building homes\"\n",
    "# student_question = \"I want to be an ambassodor to Japan\"\n",
    "# student_question = \"My goal is to find cure for cancer\"\n",
    "# student_question = \"I love rattle snakes\"\n",
    "# student_question = \"I want to be an AI researcher\""
   ]
  },
  {
   "cell_type": "code",
   "execution_count": null,
   "id": "824fe0d3-c1c1-4113-99a5-5ecd8b904b83",
   "metadata": {},
   "outputs": [],
   "source": [
    "response = graph.invoke({\"question\": student_question})\n",
    "\n",
    "print(f'Answer: {response[\"answer\"]}\\n\\n')\n",
    "print(\"*\" *80)      \n",
    "print(\"For more information, see the following pages in the Lafayette Course catalog\")\n",
    "\n",
    "pages = []\n",
    "for context in response[\"context\"]:\n",
    "    if context.metadata['page'] not in pages:\n",
    "        pages.append(context.metadata['page'])\n",
    "print(f\"pages: {pages}\")"
   ]
  }
 ],
 "metadata": {
  "kernelspec": {
   "display_name": "Python 3 (ipykernel)",
   "language": "python",
   "name": "python3"
  },
  "language_info": {
   "codemirror_mode": {
    "name": "ipython",
    "version": 3
   },
   "file_extension": ".py",
   "mimetype": "text/x-python",
   "name": "python",
   "nbconvert_exporter": "python",
   "pygments_lexer": "ipython3",
   "version": "3.12.10"
  }
 },
 "nbformat": 4,
 "nbformat_minor": 5
}
