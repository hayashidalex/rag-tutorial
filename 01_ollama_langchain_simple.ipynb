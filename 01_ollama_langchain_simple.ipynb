{
 "cells": [
  {
   "cell_type": "markdown",
   "id": "6819b5eb-87da-4daa-9407-0df8750d5613",
   "metadata": {},
   "source": [
    "# Langchain Ollama Integration \n",
    "\n",
    "- This script uses the Langchain library for additional features.\n",
    "- We have added a longer \"prompt\" as shown below.\n",
    "- Still without a RAG, the model tends to generate generic, and often incorrect, responses."
   ]
  },
  {
   "cell_type": "code",
   "execution_count": null,
   "id": "59086a74-1dd5-4e5a-9f85-decf883ba89b",
   "metadata": {},
   "outputs": [],
   "source": [
    "from langchain_core.prompts import ChatPromptTemplate\n",
    "from langchain_ollama.llms import OllamaLLM"
   ]
  },
  {
   "cell_type": "code",
   "execution_count": null,
   "id": "e4942ab1-faa8-407c-b4b1-b98a320c3556",
   "metadata": {},
   "outputs": [],
   "source": [
    "template = \"\"\"You are a counselor for Lafayette high school in Lexington, KY.\n",
    "Students will ask a question based on their interests and career plans.\n",
    "Your job is to advice them which courses to register for. \n",
    "Be specific.\n",
    "\n",
    "Question: {question}\n",
    "\n",
    "Answer: I would recommend the following courses for you:\"\"\"\n",
    "\n",
    "prompt = ChatPromptTemplate.from_template(template)\n",
    "model = OllamaLLM(model='llama3:latest')\n",
    "chain = prompt | model\n"
   ]
  },
  {
   "cell_type": "code",
   "execution_count": null,
   "id": "5d393965-2271-4bd3-bca7-330ff4ccea30",
   "metadata": {},
   "outputs": [],
   "source": [
    "student_question = \"I am interested in building homes. What courses should I take at Lafayette High School?\"\n",
    "# student_question = \"My goal is to find cure for cancer\"\n",
    "# student_question = \"I want to be an ambassodor to Japan\"\n",
    "# student_question = \"I am interested in building homes\""
   ]
  },
  {
   "cell_type": "code",
   "execution_count": null,
   "id": "4680b69d-923e-4d68-8946-bb80c8fb25e0",
   "metadata": {},
   "outputs": [],
   "source": [
    "r = chain.invoke({\"question\": student_question})\n",
    "print(r)"
   ]
  },
  {
   "cell_type": "code",
   "execution_count": null,
   "id": "e6e9c758-cec3-4dd5-aeb9-3fdf7caff8b3",
   "metadata": {},
   "outputs": [],
   "source": []
  }
 ],
 "metadata": {
  "kernelspec": {
   "display_name": "Python 3 (ipykernel)",
   "language": "python",
   "name": "python3"
  },
  "language_info": {
   "codemirror_mode": {
    "name": "ipython",
    "version": 3
   },
   "file_extension": ".py",
   "mimetype": "text/x-python",
   "name": "python",
   "nbconvert_exporter": "python",
   "pygments_lexer": "ipython3",
   "version": "3.12.10"
  }
 },
 "nbformat": 4,
 "nbformat_minor": 5
}
