{
 "cells": [
  {
   "cell_type": "markdown",
   "id": "56ea18e6-8e32-4522-949b-566a24dba322",
   "metadata": {},
   "source": [
    "# Python Ollama Libary (simple example)\n",
    "\n",
    "- We are using a small model (llama3) with 8.0B parameters, 4.7GB in size\n",
    "- We are going to ask if Lafayette High School offers courses in Latin, German, or Japanese.\n",
    "- Correct answer: No Latin or German courses. Japanese language courses are offered."
   ]
  },
  {
   "cell_type": "code",
   "execution_count": null,
   "id": "aac9af8a-fd8e-498c-adff-20a1392679dd",
   "metadata": {},
   "outputs": [],
   "source": [
    "from ollama import generate\n",
    "\n",
    "response = generate('llama3:latest', 'Does Lafayette High School offer courses in Latin, German, or Japanese?')\n",
    "print(response['response'])"
   ]
  },
  {
   "cell_type": "code",
   "execution_count": null,
   "id": "0886c64f-da85-41ee-886b-ee8387e58535",
   "metadata": {},
   "outputs": [],
   "source": []
  }
 ],
 "metadata": {
  "kernelspec": {
   "display_name": "Python 3 (ipykernel)",
   "language": "python",
   "name": "python3"
  },
  "language_info": {
   "codemirror_mode": {
    "name": "ipython",
    "version": 3
   },
   "file_extension": ".py",
   "mimetype": "text/x-python",
   "name": "python",
   "nbconvert_exporter": "python",
   "pygments_lexer": "ipython3",
   "version": "3.12.10"
  }
 },
 "nbformat": 4,
 "nbformat_minor": 5
}
